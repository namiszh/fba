{
 "cells": [
  {
   "cell_type": "markdown",
   "metadata": {},
   "source": [
    "### Yahoo API Example\n",
    "\n",
    "This notebook is an example of using yahoo api to get fantasy sports data."
   ]
  },
  {
   "cell_type": "code",
   "execution_count": 87,
   "metadata": {},
   "outputs": [],
   "source": [
    "from rauth import OAuth2Service\n",
    "import webbrowser\n",
    "import json"
   ]
  },
  {
   "cell_type": "markdown",
   "metadata": {},
   "source": [
    "**Prerequisite**\n",
    "\n",
    "First we need to create a Yahoo APP at https://developer.yahoo.com/apps/, and select Fantasy Sports - Read for API Permissions. Then we can get the Client ID (Consumer Key) and Client Secret (Consumer Secret)"
   ]
  },
  {
   "cell_type": "code",
   "execution_count": 88,
   "metadata": {},
   "outputs": [],
   "source": [
    "clientId= \"dj0yJmk9SjczU1F2MmJxbU5DJmQ9WVdrOWNteE9hbkp4TjJFbWNHbzlNQS0tJnM9Y29uc3VtZXJzZWNyZXQmeD1hNA--\"\n",
    "clinetSecrect=\"dc6f933f81961ec533d1a7bb4ad30db8d7ccf9bb\""
   ]
  },
  {
   "cell_type": "markdown",
   "metadata": {},
   "source": [
    "**Step 1: Create an OAuth object**"
   ]
  },
  {
   "cell_type": "code",
   "execution_count": 89,
   "metadata": {},
   "outputs": [],
   "source": [
    "oauth = OAuth2Service(client_id = clientId,\n",
    "                      client_secret = clinetSecrect,\n",
    "                      name = \"yahoo\",\n",
    "                      access_token_url = \"https://api.login.yahoo.com/oauth2/get_token\",\n",
    "                      authorize_url = \"https://api.login.yahoo.com/oauth2/request_auth\",\n",
    "                      base_url = \"http://fantasysports.yahooapis.com/fantasy/v2/\")"
   ]
  },
  {
   "cell_type": "markdown",
   "metadata": {},
   "source": [
    "**Step 2: Generate authorize url, and then get the verify code**\n",
    "\n",
    "For this script, the redirect_uri is set to 'oob',and open a page in brower to get the verify code.\n",
    "For Web APP server, we can set redirect uri as callback domain during Yahoo APP creation."
   ]
  },
  {
   "cell_type": "code",
   "execution_count": 90,
   "metadata": {},
   "outputs": [
    {
     "name": "stdout",
     "output_type": "stream",
     "text": [
      "Enter code: nkxkwuu\n"
     ]
    }
   ],
   "source": [
    "params = {\n",
    "    'response_type': 'code',\n",
    "    'redirect_uri': 'oob'\n",
    "}\n",
    "authorize_url = oauth.get_authorize_url(**params)\n",
    "webbrowser.open(authorize_url)\n",
    "code = input('Enter code: ')"
   ]
  },
  {
   "cell_type": "markdown",
   "metadata": {},
   "source": [
    "**Step 3: Get session with the code**"
   ]
  },
  {
   "cell_type": "code",
   "execution_count": 91,
   "metadata": {},
   "outputs": [],
   "source": [
    "data = {\n",
    "    'code': code,\n",
    "    'grant_type': 'authorization_code',\n",
    "    'redirect_uri': 'oob'\n",
    "}\n",
    "oauth_session = oauth.get_auth_session(data=data,\n",
    "                                      decoder= lambda payload : json.loads(payload.decode('utf-8')))"
   ]
  },
  {
   "cell_type": "markdown",
   "metadata": {},
   "source": [
    "**Step 4: Query the teams of this user.**"
   ]
  },
  {
   "cell_type": "code",
   "execution_count": 92,
   "metadata": {},
   "outputs": [
    {
     "data": {
      "text/plain": [
       "{'0': {'team': [[{'team_key': '375.l.573.t.2'},\n",
       "    {'team_id': '2'},\n",
       "    {'name': 'C2-真邪门'},\n",
       "    {'is_owned_by_current_login': 1},\n",
       "    {'url': 'https://basketball.fantasysports.yahoo.com/nba/573/2'},\n",
       "    {'team_logos': [{'team_logo': {'size': 'large',\n",
       "        'url': 'https://ct.yimg.com/cy/4725/38954867636_d47b60_192sq.jpg?ct=fantasy'}}]},\n",
       "    {'division_id': '3'},\n",
       "    {'waiver_priority': 13},\n",
       "    {'faab_balance': '17'},\n",
       "    {'number_of_moves': '58'},\n",
       "    {'number_of_trades': '6'},\n",
       "    {'roster_adds': {'coverage_type': 'week',\n",
       "      'coverage_value': 20,\n",
       "      'value': '2'}},\n",
       "    [],\n",
       "    {'league_scoring_type': 'head'},\n",
       "    [],\n",
       "    [],\n",
       "    {'has_draft_grade': 0},\n",
       "    {'auction_budget_total': '199'},\n",
       "    {'auction_budget_spent': 199},\n",
       "    {'managers': [{'manager': {'guid': 'EQMHXVGZ65XDJ5G57ZRRBKXUTM',\n",
       "        'image_url': 'https://ct.yimg.com/cy/4556/23861899267_82a6e0_64sq.jpg',\n",
       "        'is_current_login': '1',\n",
       "        'manager_id': '2',\n",
       "        'nickname': '邪'}}]}],\n",
       "   None]},\n",
       " '1': {'team': [[{'team_key': '375.l.1039.t.17'},\n",
       "    {'team_id': '17'},\n",
       "    {'name': '信你邪'},\n",
       "    {'is_owned_by_current_login': 1},\n",
       "    {'url': 'https://basketball.fantasysports.yahoo.com/nba/1039/17'},\n",
       "    {'team_logos': [{'team_logo': {'size': 'large',\n",
       "        'url': 'https://ct.yimg.com/cy/4435/23607972697_ad6375_192sq.jpg?ct=fantasy'}}]},\n",
       "    [],\n",
       "    {'waiver_priority': 4},\n",
       "    [],\n",
       "    {'number_of_moves': '18'},\n",
       "    {'number_of_trades': '4'},\n",
       "    {'roster_adds': {'coverage_type': 'week',\n",
       "      'coverage_value': 20,\n",
       "      'value': '0'}},\n",
       "    {'clinched_playoffs': 1},\n",
       "    {'league_scoring_type': 'head'},\n",
       "    [],\n",
       "    [],\n",
       "    {'has_draft_grade': 0},\n",
       "    [],\n",
       "    [],\n",
       "    {'managers': [{'manager': {'guid': 'EQMHXVGZ65XDJ5G57ZRRBKXUTM',\n",
       "        'image_url': 'https://ct.yimg.com/cy/4556/23861899267_82a6e0_64sq.jpg',\n",
       "        'is_current_login': '1',\n",
       "        'manager_id': '17',\n",
       "        'nickname': '邪'}}]}],\n",
       "   None]},\n",
       " '2': {'team': [[{'team_key': '375.l.15031.t.5'},\n",
       "    {'team_id': '5'},\n",
       "    {'name': '八菜鸟'},\n",
       "    {'is_owned_by_current_login': 1},\n",
       "    {'url': 'https://basketball.fantasysports.yahoo.com/nba/15031/5'},\n",
       "    {'team_logos': [{'team_logo': {'size': 'large',\n",
       "        'url': 'https://ct.yimg.com/cy/4619/37855982573_bd3af4_192sq.jpg?ct=fantasy'}}]},\n",
       "    [],\n",
       "    {'waiver_priority': 16},\n",
       "    {'faab_balance': '89'},\n",
       "    {'number_of_moves': '31'},\n",
       "    {'number_of_trades': '7'},\n",
       "    {'roster_adds': {'coverage_type': 'week',\n",
       "      'coverage_value': 20,\n",
       "      'value': '0'}},\n",
       "    [],\n",
       "    {'league_scoring_type': 'head'},\n",
       "    [],\n",
       "    [],\n",
       "    {'has_draft_grade': 0},\n",
       "    {'auction_budget_total': '200'},\n",
       "    {'auction_budget_spent': 200},\n",
       "    {'managers': [{'manager': {'guid': 'EQMHXVGZ65XDJ5G57ZRRBKXUTM',\n",
       "        'image_url': 'https://ct.yimg.com/cy/4556/23861899267_82a6e0_64sq.jpg',\n",
       "        'is_current_login': '1',\n",
       "        'manager_id': '5',\n",
       "        'nickname': '邪'}}]}],\n",
       "   None]},\n",
       " 'count': 3}"
      ]
     },
     "execution_count": 92,
     "metadata": {},
     "output_type": "execute_result"
    }
   ],
   "source": [
    "team_url = 'https://fantasysports.yahooapis.com/fantasy/v2/users;use_login=1/games;game_keys=nba/teams'\n",
    "resp = oauth_session.get(team_url, params={'format': 'json'})\n",
    "teams = resp.json()['fantasy_content']['users']['0']['user'][1]['games']['0']['game'][1]['teams']\n",
    "teams"
   ]
  },
  {
   "cell_type": "markdown",
   "metadata": {},
   "source": [
    "**Step 5: Process the data**"
   ]
  },
  {
   "cell_type": "code",
   "execution_count": 93,
   "metadata": {},
   "outputs": [
    {
     "data": {
      "text/plain": [
       "3"
      ]
     },
     "execution_count": 93,
     "metadata": {},
     "output_type": "execute_result"
    }
   ],
   "source": [
    "count = teams['count']\n",
    "count"
   ]
  }
 ],
 "metadata": {
  "kernelspec": {
   "display_name": "Python 3",
   "language": "python",
   "name": "python3"
  },
  "language_info": {
   "codemirror_mode": {
    "name": "ipython",
    "version": 3
   },
   "file_extension": ".py",
   "mimetype": "text/x-python",
   "name": "python",
   "nbconvert_exporter": "python",
   "pygments_lexer": "ipython3",
   "version": "3.6.4"
  }
 },
 "nbformat": 4,
 "nbformat_minor": 2
}

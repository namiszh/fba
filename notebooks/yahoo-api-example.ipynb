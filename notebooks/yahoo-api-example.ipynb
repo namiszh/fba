{
 "cells": [
  {
   "cell_type": "markdown",
   "metadata": {},
   "source": [
    "### Yahoo API Example\n",
    "\n",
    "This notebook is an example of using yahoo api to get fantasy sports data."
   ]
  },
  {
   "cell_type": "code",
   "execution_count": 69,
   "metadata": {},
   "outputs": [],
   "source": [
    "from rauth import OAuth2Service\n",
    "import webbrowser\n",
    "import json"
   ]
  },
  {
   "cell_type": "markdown",
   "metadata": {},
   "source": [
    "**Prerequisite**\n",
    "\n",
    "First we need to create a Yahoo APP at https://developer.yahoo.com/apps/, and select Fantasy Sports - Read for API Permissions. Then we can get the Client ID (Consumer Key) and Client Secret (Consumer Secret)"
   ]
  },
  {
   "cell_type": "code",
   "execution_count": 70,
   "metadata": {},
   "outputs": [],
   "source": [
    "clientId= \"dj0yJmk9M3gzSWJZYzFmTWZtJmQ9WVdrOU9YcGxTMHB4TXpnbWNHbzlNQS0tJnM9Y29uc3VtZXJzZWNyZXQmeD1kZg--\"\n",
    "clinetSecrect=\"dbd101e179b3d129668965de65d05c02df42333d\""
   ]
  },
  {
   "cell_type": "markdown",
   "metadata": {},
   "source": [
    "**Step 1: Create an OAuth object**"
   ]
  },
  {
   "cell_type": "code",
   "execution_count": 71,
   "metadata": {},
   "outputs": [],
   "source": [
    "oauth = OAuth2Service(client_id = clientId,\n",
    "                      client_secret = clinetSecrect,\n",
    "                      name = \"yahoo\",\n",
    "                      access_token_url = \"https://api.login.yahoo.com/oauth2/get_token\",\n",
    "                      authorize_url = \"https://api.login.yahoo.com/oauth2/request_auth\",\n",
    "                      base_url = \"http://fantasysports.yahooapis.com/fantasy/v2/\")"
   ]
  },
  {
   "cell_type": "markdown",
   "metadata": {},
   "source": [
    "**Step 2: Generate authorize url, and then get the verify code**\n",
    "\n",
    "For this script, the redirect_uri is set to 'oob',and open a page in brower to get the verify code.\n",
    "For Web APP server, we can set redirect uri as callback domain during Yahoo APP creation."
   ]
  },
  {
   "cell_type": "code",
   "execution_count": 72,
   "metadata": {},
   "outputs": [
    {
     "name": "stdout",
     "output_type": "stream",
     "text": [
      "Enter code: 5kj8ddm\n"
     ]
    }
   ],
   "source": [
    "params = {\n",
    "    'response_type': 'code',\n",
    "    'redirect_uri': 'oob'\n",
    "}\n",
    "authorize_url = oauth.get_authorize_url(**params)\n",
    "webbrowser.open(authorize_url)\n",
    "code = input('Enter code: ')"
   ]
  },
  {
   "cell_type": "markdown",
   "metadata": {},
   "source": [
    "**Step 3: Get session with the code**"
   ]
  },
  {
   "cell_type": "code",
   "execution_count": 73,
   "metadata": {},
   "outputs": [],
   "source": [
    "data = {\n",
    "    'code': code,\n",
    "    'grant_type': 'authorization_code',\n",
    "    'redirect_uri': 'oob'\n",
    "}\n",
    "oauth_session = oauth.get_auth_session(data=data,\n",
    "                                      decoder= lambda payload : json.loads(payload.decode('utf-8')))"
   ]
  },
  {
   "cell_type": "markdown",
   "metadata": {},
   "source": [
    "**Example to get user Info**"
   ]
  },
  {
   "cell_type": "code",
   "execution_count": 74,
   "metadata": {},
   "outputs": [
    {
     "data": {
      "text/plain": [
       "{'fantasy_content': {'copyright': 'Data provided by Yahoo! and STATS, LLC',\n",
       "  'refresh_rate': '60',\n",
       "  'time': '80.281972885132ms',\n",
       "  'users': {'0': {'user': [{'guid': 'EQMHXVGZ65XDJ5G57ZRRBKXUTM'}]},\n",
       "   'count': 1},\n",
       "  'xml:lang': 'en-US',\n",
       "  'yahoo:uri': '/fantasy/v2/users;use_login=1'}}"
      ]
     },
     "execution_count": 74,
     "metadata": {},
     "output_type": "execute_result"
    }
   ],
   "source": [
    "user_url='https://fantasysports.yahooapis.com/fantasy/v2/users;use_login=1'\n",
    "resp = oauth_session.get(user_url, params={'format': 'json'})\n",
    "resp.json()"
   ]
  },
  {
   "cell_type": "code",
   "execution_count": 75,
   "metadata": {},
   "outputs": [
    {
     "data": {
      "text/plain": [
       "'EQMHXVGZ65XDJ5G57ZRRBKXUTM'"
      ]
     },
     "execution_count": 75,
     "metadata": {},
     "output_type": "execute_result"
    }
   ],
   "source": [
    "user_guid=resp.json()['fantasy_content']['users']['0']['user'][0]['guid']\n",
    "user_guid"
   ]
  },
  {
   "cell_type": "markdown",
   "metadata": {},
   "source": [
    "**Example to get games**"
   ]
  },
  {
   "cell_type": "code",
   "execution_count": 76,
   "metadata": {},
   "outputs": [
    {
     "data": {
      "text/plain": [
       "{'fantasy_content': {'copyright': 'Data provided by Yahoo! and STATS, LLC',\n",
       "  'refresh_rate': '60',\n",
       "  'time': '442.91019439697ms',\n",
       "  'users': {'0': {'user': [{'guid': 'EQMHXVGZ65XDJ5G57ZRRBKXUTM'},\n",
       "     {'games': {'0': {'game': [{'code': 'nba',\n",
       "          'game_id': '375',\n",
       "          'game_key': '375',\n",
       "          'is_game_over': 0,\n",
       "          'is_offseason': 0,\n",
       "          'is_registration_over': 0,\n",
       "          'name': 'Basketball',\n",
       "          'season': '2017',\n",
       "          'type': 'full',\n",
       "          'url': 'https://basketball.fantasysports.yahoo.com/nba'}]},\n",
       "       '1': {'game': [{'code': 'nba',\n",
       "          'game_id': '364',\n",
       "          'game_key': '364',\n",
       "          'is_game_over': 1,\n",
       "          'is_offseason': 1,\n",
       "          'is_registration_over': 1,\n",
       "          'name': 'Basketball',\n",
       "          'season': '2016',\n",
       "          'type': 'full',\n",
       "          'url': 'https://basketball.fantasysports.yahoo.com/archive/nba/2016'}]},\n",
       "       '10': {'game': {'code': 'yahoops',\n",
       "         'contest_group_id': '4',\n",
       "         'editorial_season': '2014',\n",
       "         'game_id': '343',\n",
       "         'game_key': '343',\n",
       "         'is_game_over': 1,\n",
       "         'is_offseason': 1,\n",
       "         'is_registration_over': 1,\n",
       "         'name': \"Tourney Pick'em\",\n",
       "         'picks_status': 'postedit',\n",
       "         'season': '2015',\n",
       "         'type': 'pickem-team-list',\n",
       "         'url': 'https://tournament.fantasysports.yahoo.com/t1'}},\n",
       "       '11': {'game': [{'code': 'nba',\n",
       "          'game_id': '353',\n",
       "          'game_key': '353',\n",
       "          'is_game_over': 1,\n",
       "          'is_offseason': 1,\n",
       "          'is_registration_over': 1,\n",
       "          'name': 'Basketball',\n",
       "          'season': '2015',\n",
       "          'type': 'full',\n",
       "          'url': 'https://basketball.fantasysports.yahoo.com/archive/nba/2015'}]},\n",
       "       '12': {'game': {'code': 'yahoops',\n",
       "         'contest_group_id': '26',\n",
       "         'editorial_season': '2015',\n",
       "         'game_id': '356',\n",
       "         'game_key': '356',\n",
       "         'is_game_over': 1,\n",
       "         'is_offseason': 1,\n",
       "         'is_registration_over': 1,\n",
       "         'name': \"Tourney Pick'em\",\n",
       "         'picks_status': 'postedit',\n",
       "         'season': '2016',\n",
       "         'type': 'pickem-team-list',\n",
       "         'url': 'https://tournament.fantasysports.yahoo.com/t1'}},\n",
       "       '2': {'game': [{'code': 'nba',\n",
       "          'game_id': '187',\n",
       "          'game_key': '187',\n",
       "          'is_game_over': 1,\n",
       "          'is_offseason': 1,\n",
       "          'is_registration_over': 1,\n",
       "          'name': 'Basketball',\n",
       "          'season': '2007',\n",
       "          'type': 'full',\n",
       "          'url': 'https://basketball.fantasysports.yahoo.com/archive/nba/2007'}]},\n",
       "       '3': {'game': [{'code': 'nba',\n",
       "          'game_id': '211',\n",
       "          'game_key': '211',\n",
       "          'is_game_over': 1,\n",
       "          'is_offseason': 1,\n",
       "          'is_registration_over': 1,\n",
       "          'name': 'Basketball',\n",
       "          'season': '2008',\n",
       "          'type': 'full',\n",
       "          'url': 'https://basketball.fantasysports.yahoo.com/archive/nba/2008'}]},\n",
       "       '4': {'game': [{'code': 'nba',\n",
       "          'game_id': '234',\n",
       "          'game_key': '234',\n",
       "          'is_game_over': 1,\n",
       "          'is_offseason': 1,\n",
       "          'is_registration_over': 1,\n",
       "          'name': 'Basketball',\n",
       "          'season': '2009',\n",
       "          'type': 'full',\n",
       "          'url': 'https://basketball.fantasysports.yahoo.com/archive/nba/2009'}]},\n",
       "       '5': {'game': {'code': 'fbgb',\n",
       "         'game_id': '246',\n",
       "         'game_key': '246',\n",
       "         'is_game_over': 1,\n",
       "         'is_offseason': 1,\n",
       "         'is_registration_over': 1,\n",
       "         'name': 'Premiership',\n",
       "         'season': '2010',\n",
       "         'type': 'pickem-team',\n",
       "         'url': 'https://uk.premiership.fantasysports.yahoo.com/football'}},\n",
       "       '6': {'game': [{'code': 'nba',\n",
       "          'game_id': '249',\n",
       "          'game_key': '249',\n",
       "          'is_game_over': 1,\n",
       "          'is_offseason': 1,\n",
       "          'is_registration_over': 1,\n",
       "          'name': 'Basketball',\n",
       "          'season': '2010',\n",
       "          'type': 'full',\n",
       "          'url': 'https://basketball.fantasysports.yahoo.com/archive/nba/2010'}]},\n",
       "       '7': {'game': [{'code': 'nba',\n",
       "          'game_id': '304',\n",
       "          'game_key': '304',\n",
       "          'is_game_over': 1,\n",
       "          'is_offseason': 1,\n",
       "          'is_registration_over': 1,\n",
       "          'name': 'Basketball',\n",
       "          'season': '2012',\n",
       "          'type': 'full',\n",
       "          'url': 'https://basketball.fantasysports.yahoo.com/archive/nba/2012'}]},\n",
       "       '8': {'game': [{'code': 'nba',\n",
       "          'game_id': '322',\n",
       "          'game_key': '322',\n",
       "          'is_game_over': 1,\n",
       "          'is_offseason': 1,\n",
       "          'is_registration_over': 1,\n",
       "          'name': 'Basketball',\n",
       "          'season': '2013',\n",
       "          'type': 'full',\n",
       "          'url': 'https://basketball.fantasysports.yahoo.com/archive/nba/2013'}]},\n",
       "       '9': {'game': [{'code': 'nba',\n",
       "          'game_id': '342',\n",
       "          'game_key': '342',\n",
       "          'is_game_over': 1,\n",
       "          'is_offseason': 1,\n",
       "          'is_registration_over': 1,\n",
       "          'name': 'Basketball',\n",
       "          'season': '2014',\n",
       "          'type': 'full',\n",
       "          'url': 'https://basketball.fantasysports.yahoo.com/archive/nba/2014'}]},\n",
       "       'count': 13}}]},\n",
       "   'count': 1},\n",
       "  'xml:lang': 'en-US',\n",
       "  'yahoo:uri': '/fantasy/v2/users;use_login=1/games'}}"
      ]
     },
     "execution_count": 76,
     "metadata": {},
     "output_type": "execute_result"
    }
   ],
   "source": [
    "game_url = 'https://fantasysports.yahooapis.com/fantasy/v2/users;use_login=1/games'\n",
    "resp = oauth_session.get(game_url, params={'format': 'json'})\n",
    "resp.json()"
   ]
  },
  {
   "cell_type": "markdown",
   "metadata": {},
   "source": [
    "**Example to query nba teams.**"
   ]
  },
  {
   "cell_type": "code",
   "execution_count": 77,
   "metadata": {},
   "outputs": [
    {
     "data": {
      "text/plain": [
       "{'0': {'team': [[{'team_key': '375.l.573.t.2'},\n",
       "    {'team_id': '2'},\n",
       "    {'name': 'C2-真邪门'},\n",
       "    {'is_owned_by_current_login': 1},\n",
       "    {'url': 'https://basketball.fantasysports.yahoo.com/nba/573/2'},\n",
       "    {'team_logos': [{'team_logo': {'size': 'large',\n",
       "        'url': 'https://ct.yimg.com/cy/4725/38954867636_d47b60_192sq.jpg?ct=fantasy'}}]},\n",
       "    {'division_id': '3'},\n",
       "    {'waiver_priority': 11},\n",
       "    {'faab_balance': '12'},\n",
       "    {'number_of_moves': '59'},\n",
       "    {'number_of_trades': '6'},\n",
       "    {'roster_adds': {'coverage_type': 'week',\n",
       "      'coverage_value': 20,\n",
       "      'value': '3'}},\n",
       "    [],\n",
       "    {'league_scoring_type': 'head'},\n",
       "    [],\n",
       "    [],\n",
       "    {'has_draft_grade': 0},\n",
       "    {'auction_budget_total': '199'},\n",
       "    {'auction_budget_spent': 199},\n",
       "    {'managers': [{'manager': {'guid': 'EQMHXVGZ65XDJ5G57ZRRBKXUTM',\n",
       "        'image_url': 'https://ct.yimg.com/cy/4556/23861899267_82a6e0_64sq.jpg',\n",
       "        'is_current_login': '1',\n",
       "        'manager_id': '2',\n",
       "        'nickname': '邪'}}]}],\n",
       "   None]},\n",
       " '1': {'team': [[{'team_key': '375.l.1039.t.17'},\n",
       "    {'team_id': '17'},\n",
       "    {'name': '信你邪'},\n",
       "    {'is_owned_by_current_login': 1},\n",
       "    {'url': 'https://basketball.fantasysports.yahoo.com/nba/1039/17'},\n",
       "    {'team_logos': [{'team_logo': {'size': 'large',\n",
       "        'url': 'https://ct.yimg.com/cy/4435/23607972697_ad6375_192sq.jpg?ct=fantasy'}}]},\n",
       "    [],\n",
       "    {'waiver_priority': 4},\n",
       "    [],\n",
       "    {'number_of_moves': '18'},\n",
       "    {'number_of_trades': '4'},\n",
       "    {'roster_adds': {'coverage_type': 'week',\n",
       "      'coverage_value': 20,\n",
       "      'value': '0'}},\n",
       "    {'clinched_playoffs': 1},\n",
       "    {'league_scoring_type': 'head'},\n",
       "    [],\n",
       "    [],\n",
       "    {'has_draft_grade': 0},\n",
       "    [],\n",
       "    [],\n",
       "    {'managers': [{'manager': {'guid': 'EQMHXVGZ65XDJ5G57ZRRBKXUTM',\n",
       "        'image_url': 'https://ct.yimg.com/cy/4556/23861899267_82a6e0_64sq.jpg',\n",
       "        'is_current_login': '1',\n",
       "        'manager_id': '17',\n",
       "        'nickname': '邪'}}]}],\n",
       "   None]},\n",
       " '2': {'team': [[{'team_key': '375.l.15031.t.5'},\n",
       "    {'team_id': '5'},\n",
       "    {'name': '八菜鸟'},\n",
       "    {'is_owned_by_current_login': 1},\n",
       "    {'url': 'https://basketball.fantasysports.yahoo.com/nba/15031/5'},\n",
       "    {'team_logos': [{'team_logo': {'size': 'large',\n",
       "        'url': 'https://ct.yimg.com/cy/4619/37855982573_bd3af4_192sq.jpg?ct=fantasy'}}]},\n",
       "    [],\n",
       "    {'waiver_priority': 16},\n",
       "    {'faab_balance': '89'},\n",
       "    {'number_of_moves': '31'},\n",
       "    {'number_of_trades': '7'},\n",
       "    {'roster_adds': {'coverage_type': 'week',\n",
       "      'coverage_value': 20,\n",
       "      'value': '0'}},\n",
       "    [],\n",
       "    {'league_scoring_type': 'head'},\n",
       "    [],\n",
       "    [],\n",
       "    {'has_draft_grade': 0},\n",
       "    {'auction_budget_total': '200'},\n",
       "    {'auction_budget_spent': 200},\n",
       "    {'managers': [{'manager': {'guid': 'EQMHXVGZ65XDJ5G57ZRRBKXUTM',\n",
       "        'image_url': 'https://ct.yimg.com/cy/4556/23861899267_82a6e0_64sq.jpg',\n",
       "        'is_current_login': '1',\n",
       "        'manager_id': '5',\n",
       "        'nickname': '邪'}}]}],\n",
       "   None]},\n",
       " 'count': 3}"
      ]
     },
     "execution_count": 77,
     "metadata": {},
     "output_type": "execute_result"
    }
   ],
   "source": [
    "team_url = 'https://fantasysports.yahooapis.com/fantasy/v2/users;use_login=1/games;game_keys=nba/teams'\n",
    "resp = oauth_session.get(team_url, params={'format': 'json'})\n",
    "teams = resp.json()['fantasy_content']['users']['0']['user'][1]['games']['0']['game'][1]['teams']\n",
    "teams"
   ]
  },
  {
   "cell_type": "code",
   "execution_count": 78,
   "metadata": {},
   "outputs": [
    {
     "data": {
      "text/plain": [
       "3"
      ]
     },
     "execution_count": 78,
     "metadata": {},
     "output_type": "execute_result"
    }
   ],
   "source": [
    "count = teams['count']\n",
    "count"
   ]
  },
  {
   "cell_type": "markdown",
   "metadata": {},
   "source": [
    "**Example to get nba leagues**"
   ]
  },
  {
   "cell_type": "code",
   "execution_count": 79,
   "metadata": {},
   "outputs": [
    {
     "data": {
      "text/plain": [
       "{'fantasy_content': {'copyright': 'Data provided by Yahoo! and STATS, LLC',\n",
       "  'refresh_rate': '60',\n",
       "  'time': '76.287031173706ms',\n",
       "  'users': {'0': {'user': [{'guid': 'EQMHXVGZ65XDJ5G57ZRRBKXUTM'},\n",
       "     {'games': {'0': {'game': [{'code': 'nba',\n",
       "          'game_id': '375',\n",
       "          'game_key': '375',\n",
       "          'is_game_over': 0,\n",
       "          'is_offseason': 0,\n",
       "          'is_registration_over': 0,\n",
       "          'name': 'Basketball',\n",
       "          'season': '2017',\n",
       "          'type': 'full',\n",
       "          'url': 'https://basketball.fantasysports.yahoo.com/nba'},\n",
       "         {'leagues': {'0': {'league': [{'allow_add_to_dl_extra_pos': 1,\n",
       "              'current_week': 20,\n",
       "              'draft_status': 'postdraft',\n",
       "              'edit_key': '2018-03-09',\n",
       "              'end_date': '2018-04-01',\n",
       "              'end_week': '23',\n",
       "              'game_code': 'nba',\n",
       "              'iris_group_chat_id': 'TJA2CBKGARGW7H3THMJ2WKTA4Y',\n",
       "              'is_cash_league': '0',\n",
       "              'is_pro_league': '0',\n",
       "              'league_id': '573',\n",
       "              'league_key': '375.l.573',\n",
       "              'league_type': 'private',\n",
       "              'league_update_timestamp': '1520583545',\n",
       "              'name': 'Never Ending',\n",
       "              'num_teams': 20,\n",
       "              'renew': '364_817',\n",
       "              'renewed': '',\n",
       "              'scoring_type': 'head',\n",
       "              'season': '2017',\n",
       "              'start_date': '2017-10-17',\n",
       "              'start_week': '1',\n",
       "              'url': 'https://basketball.fantasysports.yahoo.com/nba/573',\n",
       "              'weekly_deadline': 'intraday'}]},\n",
       "           '1': {'league': [{'allow_add_to_dl_extra_pos': 0,\n",
       "              'current_week': 20,\n",
       "              'draft_status': 'postdraft',\n",
       "              'edit_key': '2018-03-10',\n",
       "              'end_date': '2018-04-01',\n",
       "              'end_week': '23',\n",
       "              'game_code': 'nba',\n",
       "              'iris_group_chat_id': 'AYFAMW6K7FAMBEKTQHCF33OSMU',\n",
       "              'is_cash_league': '0',\n",
       "              'is_pro_league': '0',\n",
       "              'league_id': '1039',\n",
       "              'league_key': '375.l.1039',\n",
       "              'league_type': 'private',\n",
       "              'league_update_timestamp': '1520583834',\n",
       "              'name': 'Alpha2017',\n",
       "              'num_teams': 18,\n",
       "              'renew': '364_24740',\n",
       "              'renewed': '',\n",
       "              'scoring_type': 'head',\n",
       "              'season': '2017',\n",
       "              'start_date': '2017-10-17',\n",
       "              'start_week': '1',\n",
       "              'url': 'https://basketball.fantasysports.yahoo.com/nba/1039',\n",
       "              'weekly_deadline': ''}]},\n",
       "           '2': {'league': [{'allow_add_to_dl_extra_pos': 0,\n",
       "              'current_week': 20,\n",
       "              'draft_status': 'postdraft',\n",
       "              'edit_key': '2018-03-10',\n",
       "              'end_date': '2018-04-11',\n",
       "              'end_week': '24',\n",
       "              'game_code': 'nba',\n",
       "              'iris_group_chat_id': '2PBWBVXAMZGHXE3LVVUZ5SYEHQ',\n",
       "              'is_cash_league': '0',\n",
       "              'is_pro_league': '0',\n",
       "              'league_id': '15031',\n",
       "              'league_key': '375.l.15031',\n",
       "              'league_type': 'private',\n",
       "              'league_update_timestamp': '1520583780',\n",
       "              'name': 'New Beginning 2017',\n",
       "              'num_teams': 18,\n",
       "              'renew': '364_24682',\n",
       "              'renewed': '',\n",
       "              'scoring_type': 'head',\n",
       "              'season': '2017',\n",
       "              'start_date': '2017-10-17',\n",
       "              'start_week': '1',\n",
       "              'url': 'https://basketball.fantasysports.yahoo.com/nba/15031',\n",
       "              'weekly_deadline': ''}]},\n",
       "           'count': 3}}]},\n",
       "       'count': 1}}]},\n",
       "   'count': 1},\n",
       "  'xml:lang': 'en-US',\n",
       "  'yahoo:uri': '/fantasy/v2/users;use_login=1/games;game_keys=nba/leagues'}}"
      ]
     },
     "execution_count": 79,
     "metadata": {},
     "output_type": "execute_result"
    }
   ],
   "source": [
    "league_url = 'https://fantasysports.yahooapis.com/fantasy/v2/users;use_login=1/games;game_keys=nba/leagues'\n",
    "resp = oauth_session.get(league_url, params={'format': 'json'})\n",
    "resp.json()"
   ]
  },
  {
   "cell_type": "markdown",
   "metadata": {},
   "source": [
    "**Example to get team stats of week 2**"
   ]
  },
  {
   "cell_type": "code",
   "execution_count": 84,
   "metadata": {},
   "outputs": [
    {
     "data": {
      "text/plain": [
       "{'fantasy_content': {'copyright': 'Data provided by Yahoo! and STATS, LLC',\n",
       "  'refresh_rate': '60',\n",
       "  'team': [[{'team_key': '375.l.1039.t.17'},\n",
       "    {'team_id': '17'},\n",
       "    {'name': '信你邪'},\n",
       "    {'is_owned_by_current_login': 1},\n",
       "    {'url': 'https://basketball.fantasysports.yahoo.com/nba/1039/17'},\n",
       "    {'team_logos': [{'team_logo': {'size': 'large',\n",
       "        'url': 'https://ct.yimg.com/cy/4435/23607972697_ad6375_192sq.jpg?ct=fantasy'}}]},\n",
       "    [],\n",
       "    {'waiver_priority': 4},\n",
       "    [],\n",
       "    {'number_of_moves': '18'},\n",
       "    {'number_of_trades': '4'},\n",
       "    {'roster_adds': {'coverage_type': 'week',\n",
       "      'coverage_value': 20,\n",
       "      'value': '0'}},\n",
       "    {'clinched_playoffs': 1},\n",
       "    {'league_scoring_type': 'head'},\n",
       "    [],\n",
       "    [],\n",
       "    {'has_draft_grade': 0},\n",
       "    [],\n",
       "    [],\n",
       "    {'managers': [{'manager': {'guid': 'EQMHXVGZ65XDJ5G57ZRRBKXUTM',\n",
       "        'image_url': 'https://ct.yimg.com/cy/4556/23861899267_82a6e0_64sq.jpg',\n",
       "        'is_current_login': '1',\n",
       "        'manager_id': '17',\n",
       "        'nickname': '邪'}}]}],\n",
       "   {'team_points': {'coverage_type': 'week', 'total': '9', 'week': '2'},\n",
       "    'team_stats': {'coverage_type': 'week',\n",
       "     'stats': [{'stat': {'stat_id': '9004003', 'value': '217/436'}},\n",
       "      {'stat': {'stat_id': '5', 'value': '.498'}},\n",
       "      {'stat': {'stat_id': '9007006', 'value': '90/108'}},\n",
       "      {'stat': {'stat_id': '8', 'value': '.833'}},\n",
       "      {'stat': {'stat_id': '10', 'value': '48'}},\n",
       "      {'stat': {'stat_id': '12', 'value': '572'}},\n",
       "      {'stat': {'stat_id': '13', 'value': '40'}},\n",
       "      {'stat': {'stat_id': '15', 'value': '191'}},\n",
       "      {'stat': {'stat_id': '16', 'value': '104'}},\n",
       "      {'stat': {'stat_id': '17', 'value': '42'}},\n",
       "      {'stat': {'stat_id': '18', 'value': '13'}},\n",
       "      {'stat': {'stat_id': '19', 'value': '63'}},\n",
       "      {'stat': {'stat_id': '20', 'value': '1.65'}}],\n",
       "     'week': '2'}}],\n",
       "  'time': '87.355852127075ms',\n",
       "  'xml:lang': 'en-US',\n",
       "  'yahoo:uri': '/fantasy/v2/team/375.l.1039.t.17/stats;type=week;week=2'}}"
      ]
     },
     "execution_count": 84,
     "metadata": {},
     "output_type": "execute_result"
    }
   ],
   "source": [
    "stat_url = 'https://fantasysports.yahooapis.com/fantasy/v2/team/375.l.1039.t.17/stats;type=week;week=2'\n",
    "resp = oauth_session.get(stat_url, params={'format': 'json'})\n",
    "resp.json()"
   ]
  },
  {
   "cell_type": "markdown",
   "metadata": {},
   "source": [
    "**Example to get team stats of whole season**"
   ]
  },
  {
   "cell_type": "code",
   "execution_count": 85,
   "metadata": {},
   "outputs": [
    {
     "data": {
      "text/plain": [
       "{'fantasy_content': {'copyright': 'Data provided by Yahoo! and STATS, LLC',\n",
       "  'refresh_rate': '60',\n",
       "  'team': [[{'team_key': '375.l.1039.t.17'},\n",
       "    {'team_id': '17'},\n",
       "    {'name': '信你邪'},\n",
       "    {'is_owned_by_current_login': 1},\n",
       "    {'url': 'https://basketball.fantasysports.yahoo.com/nba/1039/17'},\n",
       "    {'team_logos': [{'team_logo': {'size': 'large',\n",
       "        'url': 'https://ct.yimg.com/cy/4435/23607972697_ad6375_192sq.jpg?ct=fantasy'}}]},\n",
       "    [],\n",
       "    {'waiver_priority': 4},\n",
       "    [],\n",
       "    {'number_of_moves': '18'},\n",
       "    {'number_of_trades': '4'},\n",
       "    {'roster_adds': {'coverage_type': 'week',\n",
       "      'coverage_value': 20,\n",
       "      'value': '0'}},\n",
       "    {'clinched_playoffs': 1},\n",
       "    {'league_scoring_type': 'head'},\n",
       "    [],\n",
       "    [],\n",
       "    {'has_draft_grade': 0},\n",
       "    [],\n",
       "    [],\n",
       "    {'managers': [{'manager': {'guid': 'EQMHXVGZ65XDJ5G57ZRRBKXUTM',\n",
       "        'image_url': 'https://ct.yimg.com/cy/4556/23861899267_82a6e0_64sq.jpg',\n",
       "        'is_current_login': '1',\n",
       "        'manager_id': '17',\n",
       "        'nickname': '邪'}}]}],\n",
       "   {'team_points': {'coverage_type': 'season', 'season': '2017', 'total': ''},\n",
       "    'team_stats': {'coverage_type': 'season',\n",
       "     'season': '2017',\n",
       "     'stats': [{'stat': {'stat_id': '9004003', 'value': '3575/7583'}},\n",
       "      {'stat': {'stat_id': '5', 'value': '.471'}},\n",
       "      {'stat': {'stat_id': '9007006', 'value': '1549/1980'}},\n",
       "      {'stat': {'stat_id': '8', 'value': '.782'}},\n",
       "      {'stat': {'stat_id': '10', 'value': '742'}},\n",
       "      {'stat': {'stat_id': '12', 'value': '9441'}},\n",
       "      {'stat': {'stat_id': '13', 'value': '907'}},\n",
       "      {'stat': {'stat_id': '15', 'value': '3597'}},\n",
       "      {'stat': {'stat_id': '16', 'value': '1833'}},\n",
       "      {'stat': {'stat_id': '17', 'value': '624'}},\n",
       "      {'stat': {'stat_id': '18', 'value': '378'}},\n",
       "      {'stat': {'stat_id': '19', 'value': '1047'}},\n",
       "      {'stat': {'stat_id': '20', 'value': '1.75'}}]}}],\n",
       "  'time': '83.230972290039ms',\n",
       "  'xml:lang': 'en-US',\n",
       "  'yahoo:uri': '/fantasy/v2/team/375.l.1039.t.17/stats'}}"
      ]
     },
     "execution_count": 85,
     "metadata": {},
     "output_type": "execute_result"
    }
   ],
   "source": [
    "stat_url = 'https://fantasysports.yahooapis.com/fantasy/v2/team/375.l.1039.t.17/stats'\n",
    "resp = oauth_session.get(stat_url, params={'format': 'json'})\n",
    "resp.json()"
   ]
  }
 ],
 "metadata": {
  "kernelspec": {
   "display_name": "Python 3",
   "language": "python",
   "name": "python3"
  },
  "language_info": {
   "codemirror_mode": {
    "name": "ipython",
    "version": 3
   },
   "file_extension": ".py",
   "mimetype": "text/x-python",
   "name": "python",
   "nbconvert_exporter": "python",
   "pygments_lexer": "ipython3",
   "version": "3.6.4"
  }
 },
 "nbformat": 4,
 "nbformat_minor": 2
}
